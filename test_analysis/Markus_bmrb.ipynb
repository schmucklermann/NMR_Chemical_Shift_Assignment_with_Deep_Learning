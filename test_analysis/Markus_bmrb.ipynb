{
 "cells": [
  {
   "cell_type": "code",
   "execution_count": 22,
   "id": "6bb672d6",
   "metadata": {},
   "outputs": [],
   "source": [
    "import bmrb\n",
    "import os\n",
    "from tqdm import tqdm"
   ]
  },
  {
   "cell_type": "code",
   "execution_count": 23,
   "id": "f7007672",
   "metadata": {},
   "outputs": [],
   "source": [
    "#bmrb_dir = '/Users/adel.schmucklermann/Desktop/test/data/'\n",
    "bmrb_dir = './bmrb/bmrb_entries/'"
   ]
  },
  {
   "cell_type": "code",
   "execution_count": 24,
   "id": "5a963d32",
   "metadata": {},
   "outputs": [
    {
     "name": "stderr",
     "output_type": "stream",
     "text": [
      " 32%|████████████████████████████▋                                                            | 10/31 [00:00<00:00, 23.54it/s]ERROR:root:BMRB entry 26510 contains no chemical shift information\n",
      " 52%|█████████████████████████████████████████████▉                                           | 16/31 [00:00<00:00, 15.26it/s]ERROR:root:BMRB entry 15188 contains no chemical shift information\n",
      " 81%|███████████████████████████████████████████████████████████████████████▊                 | 25/31 [00:01<00:00, 18.13it/s]ERROR:root:BMRB entry 27140 contains no chemical shift information\n",
      "ERROR:root:BMRB entry 50482 contains no chemical shift information\n",
      "ERROR:root:BMRB entry 19361 contains no chemical shift information\n",
      "100%|█████████████████████████████████████████████████████████████████████████████████████████| 31/31 [00:01<00:00, 19.76it/s]\n"
     ]
    }
   ],
   "source": [
    "idsAll = [d[3:] for d in os.listdir(bmrb_dir) if d.startswith('bmr') and '.' not in d]\n",
    "\n",
    "bmrb_entries = {}\n",
    "failed = []\n",
    "#logging.basicConfig(level=logging.ERROR)\n",
    "for id_ in tqdm(idsAll):\n",
    "    try:\n",
    "        entry = bmrb.BmrbEntry(id_, bmrb_dir)\n",
    "    except:\n",
    "        failed.append(id_)\n",
    "        continue\n",
    "    bmrb_entries[id_] = entry"
   ]
  },
  {
   "cell_type": "code",
   "execution_count": 25,
   "id": "897b191d",
   "metadata": {},
   "outputs": [
    {
     "name": "stderr",
     "output_type": "stream",
     "text": [
      "  0%|                                                                                                  | 0/31 [00:00<?, ?it/s]WARNING:root:failed to convert value None\n",
      "WARNING:root:No information on ionic strength for sample condition 1, assuming 0.1 M\n",
      "WARNING:root:failed to convert value None\n",
      "WARNING:root:No information on ionic strength for sample condition 1, assuming 0.1 M\n",
      "WARNING:root:failed to convert value None\n",
      "WARNING:root:No information on ionic strength for sample condition 1, assuming 0.1 M\n",
      "100%|████████████████████████████████████████████████████████████████████████████████████████| 31/31 [00:00<00:00, 654.27it/s]"
     ]
    },
    {
     "name": "stdout",
     "output_type": "stream",
     "text": [
      "12 valid peptide entries with shift data in 12 of 31 BMRB entries\n",
      "Same peptide entries: 0\n"
     ]
    },
    {
     "name": "stderr",
     "output_type": "stream",
     "text": [
      "\n"
     ]
    }
   ],
   "source": [
    "shift_data = {}\n",
    "#filter for unique seqs\n",
    "unique_seq = {}\n",
    "double = 0\n",
    "\n",
    "for id_,entry in tqdm(bmrb_entries.items()):\n",
    "    \n",
    "    # skip entry if experiment type is not solution nmr\n",
    "    if not ('nmr' in entry.exp_method.lower() and \\\n",
    "       ('solution' in entry.exp_method_subtype.lower() or \\\n",
    "        'STRUCTURES' in entry.exp_method_subtype or not entry.exp_method_subtype) and \\\n",
    "       'state' not in entry.exp_method_subtype.lower()):\n",
    "        continue\n",
    "    \n",
    "    \n",
    "    #print(entry.n_components)    \n",
    "    peptide_shifts = entry.get_peptide_shifts()\n",
    "    \n",
    "    for (stID, condID, assemID, assem_entityID, entityID), shifts in peptide_shifts.items():\n",
    "        seq = entry.entities[entityID].seq\n",
    "        seq_id = entry.entities[entityID].polymer_strand_ID\n",
    "        \n",
    "        \n",
    "        #Filter out if n_components in Assembly more than 1\n",
    "        n_components = entry.assemblies['1'].n_components\n",
    "        if n_components != '1' and n_components != '':\n",
    "            continue\n",
    "        \n",
    "        \n",
    "        # skip if seq is empty\n",
    "        if not seq:\n",
    "            continue\n",
    "            \n",
    "            \n",
    "        # skip if experiment conditions are abnormal\n",
    "        ion = entry.conditions[condID].get_ionic_strength()\n",
    "        pH = entry.conditions[condID].get_pH()\n",
    "        temperature = entry.conditions[condID].get_temperature()\n",
    "        #keep only: pH: 6-8\n",
    "        if  pH > 8. or pH < 6.:\n",
    "            continue\n",
    "        \n",
    "        # retrieve backbone shifts (H,N)\n",
    "        ret = bmrb.get_valid_bbshifts(shifts, seq)\n",
    "        if not ret:\n",
    "            continue\n",
    "        bbshifts, bbshifts_arr, bbshifts_mask = ret\n",
    "        #hn = [(int(key)+1, [d['H'][0], d['N'][0]]) for key, d in bbshifts.items() if len(d) == 2]\n",
    "        \n",
    "        \n",
    "        # add to list of valid data\n",
    "        if id_ not in shift_data:\n",
    "            shift_data[id_] = {}\n",
    "         \n",
    "        #find entries with same protein\n",
    "        if seq not in unique_seq:\n",
    "            unique_seq[seq] = id_\n",
    "        else:\n",
    "            print(str(unique_seq[seq])+\" _ \"+str(id_))\n",
    "            double += 1\n",
    "            \n",
    "        shift_data[id_][(stID, condID, assemID, assem_entityID, entityID)] = (seq, seq_id, ion, pH, temperature, bbshifts, bbshifts_arr, bbshifts_mask, entry.exp_method_subtype)\n",
    "        \n",
    "#%%\n",
    "n_peptides = len([shifts for id_ in shift_data for shifts in shift_data[id_]])\n",
    "print(f\"{n_peptides} valid peptide entries with shift data in {len(shift_data)} of {len(idsAll)} BMRB entries\")\n",
    "print(\"Same peptide entries: \"+str(double))\n"
   ]
  },
  {
   "cell_type": "code",
   "execution_count": 26,
   "id": "3df3c45d",
   "metadata": {},
   "outputs": [],
   "source": [
    "file1 = open('./bmrb_detail_monomer_pH68.txt', 'w')\n",
    "file1.write(\"BRMB_ID\"+\"\\t\"+\"Sequence\"+\"\\t\"+\"Sequence_ID\"+\"\\t\"+\"Ion\"+\"\\t\"+\"pH\"+\"\\t\"+\"Temperature\"+\"\\t\"+\"Experiment\"+\"\\n\")\n",
    "\n",
    "file2 = open('./bmrb_hn_monomer_pH68.txt', 'w')\n",
    "file2.write(\"BRMB_ID\"+\"\\t\"+\"Residue_ID\"+\"\\t\"+\"Residue\"+\"\\t\"+\"H\"+\"\\t\"+\"N\"+\"\\n\")\n",
    "\n",
    "file3 = open('./bmrb_IDs_monomer_pH68.txt', 'w')\n",
    "file3.write(\"BRMB_ID\"+\"\\n\")\n",
    "\n",
    "file4 = open('./bmrb_monomer_pH68.fasta', 'w')\n",
    "\n",
    "for ID in shift_data.keys():\n",
    "    \n",
    "    entry = list(shift_data[ID].values())[0]\n",
    "\n",
    "    \n",
    "    seq = entry[0]\n",
    "    seq_id = entry[1]\n",
    "    if seq_id == '':\n",
    "        seq_id = '.'\n",
    "    ion = entry[2]\n",
    "    pH = entry[3]\n",
    "    temperature = entry[4]\n",
    "    \n",
    "    experiment = entry[8]\n",
    "    \n",
    "    found_one_hn = False\n",
    "    hn = entry[5]\n",
    "    for key, d in hn.items():\n",
    "        key = int(key)\n",
    "        residue = seq[key]\n",
    "        if len(d) == 2:\n",
    "            found_one_hn = True\n",
    "            file2.write(ID+\"\\t\"+str(key+1)+\"\\t\"+residue+\"\\t\"+str(d['H'][0])+\"\\t\"+str(d['N'][0])+\"\\n\")\n",
    "    \n",
    "    if found_one_hn:        \n",
    "        file1.write(ID+\"\\t\"+str(seq)+\"\\t\"+str(seq_id)+\"\\t\"+str(ion)+\"\\t\"+str(pH)+\"\\t\"+str(temperature)+\"\\t\"+experiment+\"\\n\")   \n",
    "        file3.write(ID+\"\\n\")\n",
    "        file4.write(\">\"+ID+\"\\n\"+str(seq)+\"\\n\")\n",
    "    \n",
    "    \n",
    "        \n",
    "file1.close()\n",
    "file2.close()\n",
    "file3.close()\n",
    "file4.close()"
   ]
  },
  {
   "cell_type": "code",
   "execution_count": null,
   "id": "a15501c3",
   "metadata": {},
   "outputs": [],
   "source": [
    "#What to do with sequences with X mask residues with -100"
   ]
  }
 ],
 "metadata": {
  "kernelspec": {
   "display_name": "NMR_master",
   "language": "python",
   "name": "nmr_master"
  },
  "language_info": {
   "codemirror_mode": {
    "name": "ipython",
    "version": 3
   },
   "file_extension": ".py",
   "mimetype": "text/x-python",
   "name": "python",
   "nbconvert_exporter": "python",
   "pygments_lexer": "ipython3",
   "version": "3.9.12"
  }
 },
 "nbformat": 4,
 "nbformat_minor": 5
}
